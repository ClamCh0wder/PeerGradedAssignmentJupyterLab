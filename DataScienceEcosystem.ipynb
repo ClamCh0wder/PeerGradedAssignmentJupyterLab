{
  "metadata": {
    "language_info": {
      "name": ""
    },
    "kernelspec": {
      "name": "python",
      "display_name": "Python (Pyodide)",
      "language": "python"
    }
  },
  "nbformat_minor": 4,
  "nbformat": 4,
  "cells": [
    {
      "cell_type": "markdown",
      "source": "# Data Science Tools and Ecocsystem",
      "metadata": {}
    },
    {
      "cell_type": "markdown",
      "source": "# Data Science Tools and Ecocsystem",
      "metadata": {}
    },
    {
      "cell_type": "markdown",
      "source": "**In this notebook, Data Science Tools and Ecosystem are sumarized.**",
      "metadata": {}
    },
    {
      "cell_type": "markdown",
      "source": "**In this notebook, Data Science Tools and Ecosystem are sumarized.**",
      "metadata": {}
    },
    {
      "cell_type": "markdown",
      "source": "Some of the popular languages that Data Scientist use are:\n- R\n- SQL\n- Java\n- Python",
      "metadata": {}
    },
    {
      "cell_type": "markdown",
      "source": "Some of the popular languages that Data Scientist use are:\n- R\n- SQL\n- Java\n- Python",
      "metadata": {}
    },
    {
      "cell_type": "markdown",
      "source": "Some of the popular libraries that Data Scientist use are:\n- NumPy\n- Ggplot2\n- SciPy",
      "metadata": {}
    },
    {
      "cell_type": "markdown",
      "source": "Some of the popular libraries that Data Scientist use are:\n- NumPy\n- Ggplot2\n- SciPy",
      "metadata": {}
    },
    {
      "cell_type": "markdown",
      "source": "| Data Science Tools |\n| ------------------ |\n| Jupyter Notebooks |\n| R STudio's |\n| TensorFLow |",
      "metadata": {}
    },
    {
      "cell_type": "markdown",
      "source": "| Data Science Tools |\n| ------------------ |\n| Jupyter Notebooks |\n| R STudio's |\n| TensorFLow |",
      "metadata": {}
    },
    {
      "cell_type": "markdown",
      "source": "### Below are a few examples of evaluating arithemtic expressions in Python",
      "metadata": {}
    },
    {
      "cell_type": "markdown",
      "source": "### Below are a few examples of evaluating arithemtic expressions in Python",
      "metadata": {}
    },
    {
      "cell_type": "markdown",
      "source": "# This a simple arithemtic expression to mutiply then add integers\n\n(3*4)+5",
      "metadata": {}
    },
    {
      "cell_type": "markdown",
      "source": "# This a simple arithemtic expression to mutiply then add integers\n\n(3*4)+5",
      "metadata": {}
    },
    {
      "cell_type": "markdown",
      "source": "# This will convert 200 minutes to hours by dividng by 60\n200/60",
      "metadata": {}
    },
    {
      "cell_type": "markdown",
      "source": "# This will convert 200 minutes to hours by dividng by 60\n200/60",
      "metadata": {}
    },
    {
      "cell_type": "markdown",
      "source": "**Objectives:**\n- List popular languages for Data Science\n- create a code cell to convert minutes to hours\n- create a markdown cell to list data science liraries",
      "metadata": {}
    },
    {
      "cell_type": "markdown",
      "source": "**Objectives:**\n- List popular languages for Data Science\n- create a code cell to convert minutes to hours\n- create a markdown cell to list data science liraries",
      "metadata": {}
    },
    {
      "cell_type": "markdown",
      "source": "## Author\n\nEdwin Chow",
      "metadata": {}
    },
    {
      "cell_type": "markdown",
      "source": "## Author\n\nEdwin Chow",
      "metadata": {}
    }
  ]
}